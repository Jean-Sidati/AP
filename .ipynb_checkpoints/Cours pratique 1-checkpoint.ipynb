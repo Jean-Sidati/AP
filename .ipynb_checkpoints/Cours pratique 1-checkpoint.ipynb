{
 "cells": [
  {
   "cell_type": "markdown",
   "id": "4eb5e267",
   "metadata": {},
   "source": [
    "**TODO**\n",
    "    -\"Kit de survie\"\n",
    "    -Flux d'exécution\n",
    "    -Variables & valeurs (objets)\n",
    "    -Types de données"
   ]
  },
  {
   "cell_type": "code",
   "execution_count": null,
   "id": "19590dad",
   "metadata": {},
   "outputs": [],
   "source": [
    "a=1\n",
    "print(a)\n",
    "print(type(a))\n",
    "a=b\n",
    "print(id(a)) #emplacement dans mémoire\n",
    "print(id(b))\n",
    "print(a==b)\n",
    "c=[]\n",
    "d=[]\n",
    "print(id(c))\n",
    "print(id(d)) #id diff\n",
    "print(c==d) # renvoie true\n",
    "print(c is d) # renvoie false\n",
    "assert c is d # mtn c is d renvoie true\n",
    "# les petits entiers ont un id préaloué\n",
    "# help marche pas sur les mots clés (is def in etc...) sauf si ils sont en chaine de caractères\n",
    "# dir(objet) donne les symboles de l'objet (utile pour un module comme numpy)"
   ]
  },
  {
   "cell_type": "markdown",
   "id": "47a57fd3",
   "metadata": {},
   "source": [
    "**Types**\n",
    "    *Liste\n",
    "    *Booléens\n",
    "    *entier\n",
    "    *flottant\n",
    "    *dictionnaire\n",
    "    *fonction\n",
    "    *string\n",
    "    *tuple\n",
    "    *set\n",
    "    *module\n",
    "    *complexe\n",
    "    *none\n",
    "    *bytes\n",
    "    *fichier\n",
    "    *exeption"
   ]
  },
  {
   "cell_type": "code",
   "execution_count": 1,
   "id": "1f16e454",
   "metadata": {},
   "outputs": [],
   "source": [
    "[1,2,3] #liste\n",
    "{1,2,3} #set\n",
    "(1,2,3) #tuple\n",
    "{\"Clé\":[1,2,3], \"Clé2\":(1,2,3)} #dict\n",
    "def f():\n",
    "    return #fonction\n",
    "1 #int\n",
    "1. #float\n",
    "import numpy #module\n",
    "1+1j #complexe\n",
    "\"lalala\" #chaine de caractères\n",
    "#les tuple contrairement aux listes sont immutable \n",
    "#affecter une valeur par defaut (ici none)\n",
    "def greeter(person=None):\n",
    "    if person is None:\n",
    "        person= \"Stranger\"\n",
    "    print(\"Hello \"+ person + \"!\")"
   ]
  },
  {
   "cell_type": "code",
   "execution_count": 5,
   "id": "186d2f6d",
   "metadata": {},
   "outputs": [
    {
     "name": "stdout",
     "output_type": "stream",
     "text": [
      "a 42\n",
      "c -7\n"
     ]
    }
   ],
   "source": [
    "#Dictionnaires\n",
    "d={\"a\":42, \"b\":12, \"c\": -7}\n",
    "#d[\"z\"] #erreur de clé\n",
    "d.get(\"z\") is None #renvoie none pour une clé absente\n",
    "del d[\"b\"] # suprime la clé\n",
    "\"a\" in d # vérifie si la clé est dedans pas de is\n",
    "for key, value in d.items(): #valeur et clé\n",
    "    print(key, value)\n",
    "for value in d.values(): #valeur seul\n",
    "    print(value)\n",
    "#l'ordre n'est pas important pour un dict c'est l'association des valeurs qui compte\n",
    "#les listes ne peuvent pas servir de clé dans les dict (doit être hashable)\n",
    "#tuple vide: () tuple à un élement: (1,)\n",
    "#set vide:set() car {} est déjà pris par le dict vide\n",
    "#set pas ordonnés, les valeurs répétées redeviennent une seule comme en maths, on ne peut pas mettre de list dedans (pas hashable)\n",
    "# appartenance à un ensemble avec in"
   ]
  },
  {
   "cell_type": "markdown",
   "id": "9484f7d1",
   "metadata": {},
   "source": [
    "** flux d'exécution**\n",
    "constructions affectant le flux d'exécution d'un programme\n",
    "    * boucles 'for' , 'while'; 'break', 'continue'\n",
    "    * branchements 'if', 'elif', 'else'\n",
    "    * appel de fonctions\n",
    "    * execeptions"
   ]
  },
  {
   "cell_type": "code",
   "execution_count": null,
   "id": "8fb45f46",
   "metadata": {},
   "outputs": [],
   "source": [
    "for i in range(10):\n",
    "    print(\"avant\",i)\n",
    "    if i%==0:\n",
    "        continue\n",
    "    print(\"après\",i)#les impairs ont avant après les pairs avant seulement, un break aurait casser la boucle au 1er pair on aurait seulement eu 0 avant\n",
    "    #except, quand t'as une certaine erreur on arrête le code et on execute ce qui suit le execpt"
   ]
  }
 ],
 "metadata": {
  "kernelspec": {
   "display_name": "Python 3 (ipykernel)",
   "language": "python",
   "name": "python3"
  },
  "language_info": {
   "codemirror_mode": {
    "name": "ipython",
    "version": 3
   },
   "file_extension": ".py",
   "mimetype": "text/x-python",
   "name": "python",
   "nbconvert_exporter": "python",
   "pygments_lexer": "ipython3",
   "version": "3.9.12"
  }
 },
 "nbformat": 4,
 "nbformat_minor": 5
}
