{
 "cells": [
  {
   "cell_type": "markdown",
   "id": "86ec7d03",
   "metadata": {},
   "source": [
    "# Conventions de nommage"
   ]
  },
  {
   "cell_type": "code",
   "execution_count": null,
   "id": "f671916b",
   "metadata": {},
   "outputs": [],
   "source": [
    "a_very_long_name = \"fvedzacfefvf\" # convention \"snake-case\""
   ]
  },
  {
   "cell_type": "code",
   "execution_count": null,
   "id": "c875e6ad",
   "metadata": {},
   "outputs": [],
   "source": [
    "class ShapeRectangl: # nouveau type: CamelCase\n",
    "    pass "
   ]
  },
  {
   "cell_type": "code",
   "execution_count": null,
   "id": "63d7c4e5",
   "metadata": {},
   "outputs": [],
   "source": [
    "PI = 3.14 # Constantes: majuscules "
   ]
  },
  {
   "cell_type": "markdown",
   "id": "8a0d0886",
   "metadata": {},
   "source": [
    "### Espaces de noms (globale et local)"
   ]
  },
  {
   "cell_type": "code",
   "execution_count": 1,
   "id": "7147bb23",
   "metadata": {},
   "outputs": [
    {
     "data": {
      "text/plain": [
       "{'__name__': '__main__',\n",
       " '__doc__': 'Automatically created module for IPython interactive environment',\n",
       " '__package__': None,\n",
       " '__loader__': None,\n",
       " '__spec__': None,\n",
       " '__builtin__': <module 'builtins' (built-in)>,\n",
       " '__builtins__': <module 'builtins' (built-in)>,\n",
       " '_ih': ['', 'globals ()'],\n",
       " '_oh': {},\n",
       " '_dh': [WindowsPath('C:/Users/Jean-Sidati/dev/AP')],\n",
       " 'In': ['', 'globals ()'],\n",
       " 'Out': {},\n",
       " 'get_ipython': <bound method InteractiveShell.get_ipython of <ipykernel.zmqshell.ZMQInteractiveShell object at 0x000002424C5A4220>>,\n",
       " 'exit': <IPython.core.autocall.ZMQExitAutocall at 0x2424c5a4910>,\n",
       " 'quit': <IPython.core.autocall.ZMQExitAutocall at 0x2424c5a4910>,\n",
       " '_': '',\n",
       " '__': '',\n",
       " '___': '',\n",
       " '_i': '',\n",
       " '_ii': '',\n",
       " '_iii': '',\n",
       " '_i1': 'globals ()'}"
      ]
     },
     "execution_count": 1,
     "metadata": {},
     "output_type": "execute_result"
    }
   ],
   "source": [
    "globals () #dictionnaires des variables globales\n"
   ]
  },
  {
   "cell_type": "code",
   "execution_count": 4,
   "id": "83592a47",
   "metadata": {},
   "outputs": [
    {
     "name": "stdout",
     "output_type": "stream",
     "text": [
      "['k']\n",
      "{'k': 3}\n"
     ]
    }
   ],
   "source": [
    "k = 1\n",
    "def f():\n",
    "    k=3 # création d'une variable locale\n",
    "    print(dir()) #liste des variables locales de f\n",
    "    print(locals()) #dictionnaires variables locales -> valeurs\n",
    "f()\n",
    "print(k) # renvoie 1 car la variable local n'impacte pas la globale"
   ]
  },
  {
   "cell_type": "code",
   "execution_count": 5,
   "id": "589fa085",
   "metadata": {},
   "outputs": [
    {
     "name": "stdout",
     "output_type": "stream",
     "text": [
      "1\n"
     ]
    }
   ],
   "source": [
    "k = 1\n",
    "def f():\n",
    "    print(k) # si il n'y a pas de variable local k on chercher le k global\n",
    "    print(\"k\" in locals()) #faux car k n'est pas dans les variables locales\n",
    "f() "
   ]
  },
  {
   "cell_type": "code",
   "execution_count": null,
   "id": "e5773091",
   "metadata": {},
   "outputs": [],
   "source": [
    "a=0\n",
    "def f():\n",
    "    a=42\n",
    "    global a #erreur on utilise a en local avant de chercher le a global"
   ]
  },
  {
   "cell_type": "markdown",
   "id": "8fa6e3b3",
   "metadata": {},
   "source": [
    "# (Utilisation des) objets"
   ]
  },
  {
   "cell_type": "code",
   "execution_count": 9,
   "id": "46eca44f",
   "metadata": {},
   "outputs": [
    {
     "name": "stdout",
     "output_type": "stream",
     "text": [
      "pygame 2.1.2 (SDL 2.0.18, Python 3.9.12)\n",
      "Hello from the pygame community. https://www.pygame.org/contribute.html\n"
     ]
    }
   ],
   "source": [
    "rect=(0,0,640,480)\n",
    "type(rect)\n",
    "import pygame"
   ]
  },
  {
   "cell_type": "code",
   "execution_count": 10,
   "id": "cd50ff1b",
   "metadata": {},
   "outputs": [],
   "source": [
    "from pygame import Rect"
   ]
  },
  {
   "cell_type": "code",
   "execution_count": 11,
   "id": "53605af6",
   "metadata": {},
   "outputs": [],
   "source": [
    "rect2=Rect(0,0,640,480)"
   ]
  },
  {
   "cell_type": "code",
   "execution_count": 12,
   "id": "60f3555e",
   "metadata": {},
   "outputs": [
    {
     "data": {
      "text/plain": [
       "['__bool__',\n",
       " '__class__',\n",
       " '__contains__',\n",
       " '__copy__',\n",
       " '__delattr__',\n",
       " '__delitem__',\n",
       " '__dir__',\n",
       " '__doc__',\n",
       " '__eq__',\n",
       " '__format__',\n",
       " '__ge__',\n",
       " '__getattribute__',\n",
       " '__getitem__',\n",
       " '__gt__',\n",
       " '__hash__',\n",
       " '__init__',\n",
       " '__init_subclass__',\n",
       " '__le__',\n",
       " '__len__',\n",
       " '__lt__',\n",
       " '__ne__',\n",
       " '__new__',\n",
       " '__reduce__',\n",
       " '__reduce_ex__',\n",
       " '__repr__',\n",
       " '__safe_for_unpickling__',\n",
       " '__setattr__',\n",
       " '__setitem__',\n",
       " '__sizeof__',\n",
       " '__str__',\n",
       " '__subclasshook__',\n",
       " 'bottom',\n",
       " 'bottomleft',\n",
       " 'bottomright',\n",
       " 'center',\n",
       " 'centerx',\n",
       " 'centery',\n",
       " 'clamp',\n",
       " 'clamp_ip',\n",
       " 'clip',\n",
       " 'clipline',\n",
       " 'collidedict',\n",
       " 'collidedictall',\n",
       " 'collidelist',\n",
       " 'collidelistall',\n",
       " 'collidepoint',\n",
       " 'colliderect',\n",
       " 'contains',\n",
       " 'copy',\n",
       " 'fit',\n",
       " 'h',\n",
       " 'height',\n",
       " 'inflate',\n",
       " 'inflate_ip',\n",
       " 'left',\n",
       " 'midbottom',\n",
       " 'midleft',\n",
       " 'midright',\n",
       " 'midtop',\n",
       " 'move',\n",
       " 'move_ip',\n",
       " 'normalize',\n",
       " 'right',\n",
       " 'size',\n",
       " 'top',\n",
       " 'topleft',\n",
       " 'topright',\n",
       " 'union',\n",
       " 'union_ip',\n",
       " 'unionall',\n",
       " 'unionall_ip',\n",
       " 'update',\n",
       " 'w',\n",
       " 'width',\n",
       " 'x',\n",
       " 'y']"
      ]
     },
     "execution_count": 12,
     "metadata": {},
     "output_type": "execute_result"
    }
   ],
   "source": [
    "dir(rect2) #attributs de rect2"
   ]
  },
  {
   "cell_type": "code",
   "execution_count": null,
   "id": "b2807f8b",
   "metadata": {},
   "outputs": [],
   "source": [
    "\n"
   ]
  }
 ],
 "metadata": {
  "kernelspec": {
   "display_name": "Python 3 (ipykernel)",
   "language": "python",
   "name": "python3"
  },
  "language_info": {
   "codemirror_mode": {
    "name": "ipython",
    "version": 3
   },
   "file_extension": ".py",
   "mimetype": "text/x-python",
   "name": "python",
   "nbconvert_exporter": "python",
   "pygments_lexer": "ipython3",
   "version": "3.9.12"
  }
 },
 "nbformat": 4,
 "nbformat_minor": 5
}
